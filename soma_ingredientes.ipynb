{
  "nbformat": 4,
  "nbformat_minor": 0,
  "metadata": {
    "colab": {
      "provenance": [],
      "authorship_tag": "ABX9TyOg8SfGg4/bnj0ycIyTfwJy",
      "include_colab_link": true
    },
    "kernelspec": {
      "name": "python3",
      "display_name": "Python 3"
    },
    "language_info": {
      "name": "python"
    }
  },
  "cells": [
    {
      "cell_type": "markdown",
      "metadata": {
        "id": "view-in-github",
        "colab_type": "text"
      },
      "source": [
        "<a href=\"https://colab.research.google.com/github/monigomes/curso-programaria-analise-de-dados/blob/main/soma_ingredientes.ipynb\" target=\"_parent\"><img src=\"https://colab.research.google.com/assets/colab-badge.svg\" alt=\"Open In Colab\"/></a>"
      ]
    },
    {
      "cell_type": "markdown",
      "source": [
        "# Primeiros Comandos e Lógica da Programação"
      ],
      "metadata": {
        "id": "Cx6rreX-OoIc"
      }
    },
    {
      "cell_type": "code",
      "execution_count": null,
      "metadata": {
        "colab": {
          "base_uri": "https://localhost:8080/"
        },
        "id": "L-7Bg3qMK14h",
        "outputId": "25257443-7b2a-4942-bb9f-365899826e7d"
      },
      "outputs": [
        {
          "output_type": "stream",
          "name": "stdout",
          "text": [
            "Olá mundo!\n"
          ]
        }
      ],
      "source": [
        "print(\"Olá mundo!\")"
      ]
    },
    {
      "cell_type": "code",
      "source": [
        "a = 1"
      ],
      "metadata": {
        "id": "vtVfZrOaNQrj"
      },
      "execution_count": null,
      "outputs": []
    },
    {
      "cell_type": "code",
      "source": [
        "a+2"
      ],
      "metadata": {
        "colab": {
          "base_uri": "https://localhost:8080/"
        },
        "id": "4P9FOcqGNQ6B",
        "outputId": "7c95793c-2ff9-480c-e881-c687e6c1002d"
      },
      "execution_count": null,
      "outputs": [
        {
          "output_type": "execute_result",
          "data": {
            "text/plain": [
              "3"
            ]
          },
          "metadata": {},
          "execution_count": 4
        }
      ]
    },
    {
      "cell_type": "markdown",
      "source": [
        "# Soma de ingredientes para um bolo de cenoura"
      ],
      "metadata": {
        "id": "DvTuGhT1Ne1Y"
      }
    },
    {
      "cell_type": "code",
      "source": [
        "#Importações\n",
        "import sys"
      ],
      "metadata": {
        "id": "nsO_whIMNkXh"
      },
      "execution_count": 3,
      "outputs": []
    },
    {
      "cell_type": "code",
      "source": [
        "#Declaração de variáveis\n",
        "preco_cenoura = 4.5\n",
        "preco_oleo = 12\n",
        "preco_fermento = 15\n",
        "preco_leite = 5\n",
        "preco_acucar = 6\n",
        "preco_ovos = 12"
      ],
      "metadata": {
        "id": "qYN_z79bN6ez"
      },
      "execution_count": 11,
      "outputs": []
    },
    {
      "cell_type": "code",
      "source": [
        "# Desenvolvendo a primeira função\n",
        "# Função que retorna a soma dos ingredientes\n",
        "\n",
        "def soma_ingredientes(tem_cenoura, tem_oleo, tem_fermento, tem_leite, tem_acucar, tem_ovos):\n",
        "    total_compra = 0\n",
        "    if tem_cenoura:\n",
        "        total_compra = total_compra + preco_cenoura\n",
        "    if tem_oleo:\n",
        "        total_compra = total_compra + preco_oleo\n",
        "    if tem_fermento:\n",
        "        total_compra = total_compra + preco_fermento\n",
        "    if tem_leite:\n",
        "        total_compra = total_compra + preco_leite\n",
        "    if tem_acucar:\n",
        "        total_compra = total_compra + preco_acucar\n",
        "    if tem_ovos:\n",
        "        total_compra = total_compra + preco_ovos\n",
        "    return total_compra\n"
      ],
      "metadata": {
        "id": "EIoJmzuMOEb7"
      },
      "execution_count": 12,
      "outputs": []
    },
    {
      "cell_type": "code",
      "source": [
        "# Retornado se tem ou não o ingrediente com \"True\" ou \"False\"\n",
        "\n",
        "terminal_tem_cenoura = True\n",
        "terminal_tem_oleo = True\n",
        "terminal_tem_fermento = True\n",
        "terminal_tem_leite = True\n",
        "terminal_tem_acucar = True\n",
        "terminal_tem_ovos = True\n",
        "\n",
        "# Total da compra\n",
        "\n",
        "total = soma_ingredientes(terminal_tem_cenoura, terminal_tem_oleo, terminal_tem_fermento, terminal_tem_leite, terminal_tem_acucar, terminal_tem_ovos)\n",
        "\n",
        "print(\"Total dos ingredientes: \", total)"
      ],
      "metadata": {
        "colab": {
          "base_uri": "https://localhost:8080/"
        },
        "id": "6cPTGvwdOgnd",
        "outputId": "480417e9-b0fa-4936-d49c-8a79d8ab50c5"
      },
      "execution_count": 13,
      "outputs": [
        {
          "output_type": "stream",
          "name": "stdout",
          "text": [
            "Total dos ingredientes:  54.5\n"
          ]
        }
      ]
    },
    {
      "cell_type": "code",
      "source": [
        "# Alterando o preço para ver se atualiza o valor da soma acima.\n",
        "preco_cenoura = 8"
      ],
      "metadata": {
        "id": "bXKUjQBYPUBh"
      },
      "execution_count": 14,
      "outputs": []
    },
    {
      "cell_type": "code",
      "source": [
        "# Total da compra atualizado\n",
        "\n",
        "total = soma_ingredientes(terminal_tem_cenoura, terminal_tem_oleo, terminal_tem_fermento, terminal_tem_leite, terminal_tem_acucar, terminal_tem_ovos)\n",
        "\n",
        "print(\"Total dos ingredientes: \", total)"
      ],
      "metadata": {
        "colab": {
          "base_uri": "https://localhost:8080/"
        },
        "id": "ycoQ88CcOZoO",
        "outputId": "b4ddb8ec-f501-4f39-eb75-88bc6cd9ef79"
      },
      "execution_count": 15,
      "outputs": [
        {
          "output_type": "stream",
          "name": "stdout",
          "text": [
            "Total dos ingredientes:  58\n"
          ]
        }
      ]
    }
  ]
}